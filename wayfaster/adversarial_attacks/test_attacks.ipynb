{
 "cells": [
  {
   "cell_type": "code",
   "execution_count": 2,
   "metadata": {},
   "outputs": [],
   "source": [
    "%load_ext autoreload\n",
    "%autoreload 2\n",
    "\n",
    "from PSO import PSO\n",
    "import torch\n",
    "from torch import nn\n",
    "from shadow_attacker_optimized import ShadowAttack"
   ]
  },
  {
   "cell_type": "markdown",
   "metadata": {},
   "source": [
    "## Quick Testing\n"
   ]
  },
  {
   "cell_type": "markdown",
   "metadata": {},
   "source": [
    "Test PSO\n"
   ]
  },
  {
   "cell_type": "code",
   "execution_count": 15,
   "metadata": {},
   "outputs": [
    {
     "name": "stderr",
     "output_type": "stream",
     "text": [
      "100%|██████████| 10/10 [00:00<00:00, 2246.43it/s]"
     ]
    },
    {
     "name": "stdout",
     "output_type": "stream",
     "text": [
      "tensor([-510., -510., -510., -510., -510., -510., -510., -510., -510., -510.],\n",
      "       device='cuda:0') tensor([[255., 255.],\n",
      "        [255., 255.],\n",
      "        [255., 255.],\n",
      "        [255., 255.],\n",
      "        [255., 255.],\n",
      "        [255., 255.],\n",
      "        [255., 255.],\n",
      "        [255., 255.],\n",
      "        [255., 255.],\n",
      "        [255., 255.]], device='cuda:0')\n"
     ]
    },
    {
     "name": "stderr",
     "output_type": "stream",
     "text": [
      "\n"
     ]
    }
   ],
   "source": [
    "# Params\n",
    "batch_size = 10\n",
    "n_particles = 10\n",
    "dim = 2\n",
    "c1 = 2.0\n",
    "c2 = 2.0\n",
    "w = 1.0\n",
    "num_iters = 10\n",
    "\n",
    "pos_lb = torch.zeros(dim)\n",
    "pos_ub = torch.ones(dim) * 255.0\n",
    "pos_constraint = torch.stack((pos_lb, pos_ub), dim=0)\n",
    "speed_lim = 30.0\n",
    "vel_lb = -torch.ones(dim) * speed_lim\n",
    "vel_ub = torch.ones(dim) * speed_lim\n",
    "vel_constraint = torch.stack((vel_lb, vel_ub), dim=0)\n",
    "\n",
    "# Arbitrary model\n",
    "model = nn.Sequential(\n",
    "    nn.Linear(in_features=dim, out_features=1),\n",
    "    nn.ReLU(),\n",
    ")\n",
    "\n",
    "\n",
    "# Define particle's loss function\n",
    "def cost_fn(batch_particles: torch.Tensor):\n",
    "    # Returns negative sum of values, so optimal would be (255,255, ...)\n",
    "    batch_particles_flat = batch_particles.flatten(start_dim=1)  # Shape (N, *)\n",
    "    return -torch.sum(batch_particles_flat, dim=1)\n",
    "\n",
    "\n",
    "# Create PSO\n",
    "optimizer = PSO(\n",
    "    batch_size=batch_size,\n",
    "    num_iters=num_iters,\n",
    "    n_particles=n_particles,\n",
    "    dim=dim,\n",
    "    c1=c1,\n",
    "    c2=c2,\n",
    "    w=w,\n",
    "    pos_constraint=pos_constraint,\n",
    "    vel_constraint=vel_constraint,\n",
    ")\n",
    "\n",
    "batch_best_cost, batch_best_particle = optimizer.optimize(cost_fn=cost_fn)\n",
    "\n",
    "print(batch_best_cost, batch_best_particle)"
   ]
  },
  {
   "cell_type": "markdown",
   "metadata": {},
   "source": [
    "Testing shadow attacks\n"
   ]
  },
  {
   "cell_type": "code",
   "execution_count": 56,
   "metadata": {},
   "outputs": [],
   "source": [
    "import torch\n",
    "import matplotlib.pyplot as plt\n",
    "import numpy as np\n",
    "\n",
    "# Function to display the tensor\n",
    "def display_tensor_images(tensor):\n",
    "    \"\"\"\n",
    "    Display a tensor of shape (batch_size, sequence_length, 3, height, width)\n",
    "    as a grid of images with rows as batch indices and columns as sequence indices.\n",
    "    \"\"\"\n",
    "    batch_size, seq_length, channels, height, width = tensor.shape\n",
    "\n",
    "    # Create a figure with batch_size rows and seq_length columns\n",
    "    fig, axes = plt.subplots(batch_size, seq_length, figsize=(seq_length * 3, batch_size * 3))\n",
    "    fig.suptitle(\"Tensor Visualization: Rows=Batch, Columns=Sequence\", fontsize=16)\n",
    "\n",
    "    # Ensure axes is 2D even for batch_size=1 or seq_length=1\n",
    "    axes = np.array(axes).reshape(batch_size, seq_length)\n",
    "\n",
    "    for i in range(batch_size):  # Loop over batch\n",
    "        for j in range(seq_length):  # Loop over sequence\n",
    "            # Extract the image for batch `i` and sequence `j`\n",
    "            img = tensor[i, j].cpu().permute(1, 2, 0).numpy()  # Convert to (H, W, C) for visualization\n",
    "\n",
    "            # Normalize image to [0, 1] if necessary\n",
    "            img = (img - img.min()) / (img.max() - img.min())\n",
    "\n",
    "            # Display the image\n",
    "            axes[i, j].imshow(img)\n",
    "            axes[i, j].axis(\"off\")  # Hide axes\n",
    "\n",
    "    plt.tight_layout()\n",
    "    plt.subplots_adjust(top=0.9)  # Adjust for suptitle\n",
    "    plt.show()"
   ]
  },
  {
   "cell_type": "code",
   "execution_count": 55,
   "metadata": {},
   "outputs": [
    {
     "name": "stderr",
     "output_type": "stream",
     "text": [
      "100%|██████████| 100/100 [00:05<00:00, 17.89it/s]\n"
     ]
    },
    {
     "name": "stdout",
     "output_type": "stream",
     "text": [
      "tensor([0.2252, 0.2252], device='cuda:0', dtype=torch.float64)\n",
      "torch.Size([2, 4, 3, 200, 300])\n"
     ]
    },
    {
     "data": {
      "image/png": "[encoded data removed]",
      "text/plain": [
       "<Figure size 1200x600 with 8 Axes>"
      ]
     },
     "metadata": {},
     "output_type": "display_data"
    }
   ],
   "source": [
    "class DummyModel(nn.Module):\n",
    "    def __init__(self):\n",
    "        super().__init__()\n",
    "\n",
    "    def forward(self, X, *args):\n",
    "        # X of shape (batch_size, seq_length, 3, H, W)\n",
    "        # Return the first channel of the first image from the sequence.\n",
    "        return X[:, 0, 0].unsqueeze(1), _, _\n",
    "\n",
    "\n",
    "# Since loss function in shadow attack is to maximize L1 difference, my input X is just white image, then it will try to create the largest shadow as possible.\n",
    "model = DummyModel()\n",
    "X = torch.ones((2, 4, 3, 200, 300), dtype=float)\n",
    "garbage = torch.ones((2, 2))\n",
    "model_inputs = [X, garbage]\n",
    "attacker = ShadowAttack(model=model)\n",
    "attacker.PSO_params[\"num_iters\"] = 100\n",
    "adv_loss, Xp = attacker.generate_attack(model_inputs)\n",
    "print(adv_loss)\n",
    "print(Xp.shape)\n",
    "display_tensor_images(Xp)"
   ]
  }
 ],
 "metadata": {
  "kernelspec": {
   "display_name": "wayfaster",
   "language": "python",
   "name": "python3"
  },
  "language_info": {
   "codemirror_mode": {
    "name": "ipython",
    "version": 3
   },
   "file_extension": ".py",
   "mimetype": "text/x-python",
   "name": "python",
   "nbconvert_exporter": "python",
   "pygments_lexer": "ipython3",
   "version": "3.12.5"
  }
 },
 "nbformat": 4,
 "nbformat_minor": 2
}
