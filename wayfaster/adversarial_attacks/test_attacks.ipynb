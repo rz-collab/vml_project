{
 "cells": [
  {
   "cell_type": "code",
   "execution_count": null,
   "metadata": {},
   "outputs": [
    {
     "name": "stdout",
     "output_type": "stream",
     "text": [
      "The autoreload extension is already loaded. To reload it, use:\n",
      "  %reload_ext autoreload\n"
     ]
    }
   ],
   "source": [
    "%load_ext autoreload\n",
    "%autoreload 2\n",
    "\n",
    "from PSO import PSO\n",
    "import torch\n",
    "from torch import nn\n",
    "import matplotlib.pyplot as plt\n",
    "import numpy as np\n",
    "from shadow_attacker import ShadowAttack"
   ]
  },
  {
   "cell_type": "markdown",
   "metadata": {},
   "source": [
    "## Quick Testing\n",
    "\n",
    "These work with shadow attack old that is for more general model.."
   ]
  },
  {
   "cell_type": "markdown",
   "metadata": {},
   "source": [
    "Applying shadow mask\n"
   ]
  },
  {
   "cell_type": "code",
   "execution_count": 91,
   "metadata": {},
   "outputs": [
    {
     "data": {
      "image/png": "[encoded data removed]",
      "text/plain": [
       "<Figure size 640x480 with 1 Axes>"
      ]
     },
     "metadata": {},
     "output_type": "display_data"
    },
    {
     "data": {
      "image/png": "[encoded data removed]",
      "text/plain": [
       "<Figure size 900x300 with 3 Axes>"
      ]
     },
     "metadata": {},
     "output_type": "display_data"
    }
   ],
   "source": [
    "def visualize_binary_masks(mask):\n",
    "    plt.imshow(mask.cpu().numpy(), cmap=\"gray\")  # Display mask in grayscale\n",
    "    plt.tight_layout()\n",
    "    plt.show()\n",
    "\n",
    "\n",
    "def visualize_perturbed_inputs(X):\n",
    "    n, c, h, w = X.shape\n",
    "    fig, axes = plt.subplots(1, n, figsize=(n * 3, 3))\n",
    "    for i in range(n):\n",
    "        ax = axes.flat[i]\n",
    "        # Transpose from (c, h, w) to (h, w, c) for matplotlib. Removed depth channel\n",
    "        image = torch.permute(X[i][0:3], (1, 2, 0))\n",
    "        image = image.cpu().numpy().astype(np.uint8)\n",
    "        ax.imshow(image, cmap=\"gray\", vmin=0, vmax=255)  # Ensure the values are in uint8 format for display\n",
    "    plt.tight_layout()\n",
    "    plt.show()\n",
    "\n",
    "\n",
    "# Random input\n",
    "n, c, h, w = 3, 4, 100, 100\n",
    "X = torch.ones((n, c, h, w), dtype=torch.float16) * 128\n",
    "X[0] = 60\n",
    "X[2] = 240\n",
    "\n",
    "vertices = torch.tensor([[10, 10], [20, 20], [30, 10]], dtype=torch.float)\n",
    "attacker = ShadowAttack(None)\n",
    "mask = attacker.get_shadow_mask(vertices, h, w)\n",
    "visualize_binary_masks(mask)\n",
    "\n",
    "X_p = attacker.apply_shadow_mask(mask, X)\n",
    "\n",
    "visualize_perturbed_inputs(X_p)"
   ]
  },
  {
   "cell_type": "markdown",
   "metadata": {},
   "source": [
    "Testing code for checking inside triangle\n"
   ]
  },
  {
   "cell_type": "code",
   "execution_count": 92,
   "metadata": {},
   "outputs": [
    {
     "data": {
      "text/plain": [
       "tensor([ True,  True, False])"
      ]
     },
     "execution_count": 92,
     "metadata": {},
     "output_type": "execute_result"
    }
   ],
   "source": [
    "def check_points_inside_triangle(vertices, points):\n",
    "    # Add the third dimension\n",
    "    n = len(points)\n",
    "    vertices_3d = torch.cat([vertices, torch.zeros(len(vertices), 1)], dim=1)\n",
    "    points_3d = torch.cat([points, torch.zeros(n, 1)], dim=1)\n",
    "    # Check by cross products\n",
    "    a, b, c = vertices_3d\n",
    "    cross1 = torch.cross(torch.broadcast_to(b - a, (n, 3)), points_3d - a, dim=1)[:, 2] <= 0\n",
    "    cross2 = torch.cross(torch.broadcast_to(c - b, (n, 3)), points_3d - b, dim=1)[:, 2] <= 0\n",
    "    cross3 = torch.cross(torch.broadcast_to(a - c, (n, 3)), points_3d - c, dim=1)[:, 2] <= 0\n",
    "    return ~(cross1 ^ cross2) & ~(cross2 ^ cross3)\n",
    "\n",
    "\n",
    "check_points_inside_triangle(\n",
    "    vertices=torch.tensor([[1, 1], [2, 2], [3, 1]], dtype=torch.float),\n",
    "    points=torch.tensor([[1.5, 1.5], [1, 1], [2, 0.9]], dtype=torch.float),\n",
    ")"
   ]
  },
  {
   "cell_type": "markdown",
   "metadata": {},
   "source": [
    "Testing PSO\n"
   ]
  },
  {
   "cell_type": "code",
   "execution_count": null,
   "metadata": {},
   "outputs": [
    {
     "name": "stdout",
     "output_type": "stream",
     "text": [
      "The autoreload extension is already loaded. To reload it, use:\n",
      "  %reload_ext autoreload\n"
     ]
    },
    {
     "name": "stderr",
     "output_type": "stream",
     "text": [
      "100%|██████████| 100/100 [00:00<00:00, 2588.65it/s]"
     ]
    },
    {
     "name": "stdout",
     "output_type": "stream",
     "text": [
      "tensor(-1530.) tensor([255., 255., 255., 255., 255., 255.])\n"
     ]
    },
    {
     "name": "stderr",
     "output_type": "stream",
     "text": [
      "\n"
     ]
    }
   ],
   "source": [
    "%load_ext autoreload\n",
    "%autoreload 2\n",
    "\n",
    "import torch\n",
    "\n",
    "# Params\n",
    "n_particles = 20\n",
    "dim = 6\n",
    "c1 = 1.5\n",
    "c2 = 1.5\n",
    "w = 0.5\n",
    "num_iters = 100\n",
    "\n",
    "pos_lb = torch.zeros(dim)\n",
    "pos_ub = torch.ones(dim) * 255.0\n",
    "pos_constraint = torch.stack((pos_lb, pos_ub), dim=0)\n",
    "speed_lim = 30.0\n",
    "vel_lb = -torch.ones(dim) * speed_lim\n",
    "vel_ub = torch.ones(dim) * speed_lim\n",
    "vel_constraint = torch.stack((vel_lb, vel_ub), dim=0)\n",
    "\n",
    "# Arbitrary model\n",
    "model = nn.Sequential(\n",
    "    nn.Linear(in_features=dim, out_features=1),\n",
    "    nn.ReLU(),\n",
    ")\n",
    "\n",
    "\n",
    "# Define particle's loss function\n",
    "def cost_fn(particle: torch.Tensor):\n",
    "    # I won't actually use this value, just for testing that my multiprocessing works with nn modules.\n",
    "    with torch.no_grad():\n",
    "        x = model(particle)\n",
    "    # Returns negative sum of values, so optimal would be (255,255, ...)\n",
    "    return -torch.sum(particle).item()\n",
    "\n",
    "\n",
    "# Create PSO\n",
    "optimizer = PSO(\n",
    "    num_iters=num_iters,\n",
    "    n_particles=n_particles,\n",
    "    dim=dim,\n",
    "    c1=c1,\n",
    "    c2=c2,\n",
    "    w=w,\n",
    "    pos_constraint=pos_constraint,\n",
    "    vel_constraint=vel_constraint,\n",
    ")\n",
    "\n",
    "best_cost, best_particle = optimizer.optimize(cost_fn=cost_fn)\n",
    "\n",
    "print(best_cost, best_particle)"
   ]
  },
  {
   "cell_type": "markdown",
   "metadata": {},
   "source": [
    "Testing shadow attacks\n"
   ]
  },
  {
   "cell_type": "code",
   "execution_count": null,
   "metadata": {},
   "outputs": [
    {
     "name": "stderr",
     "output_type": "stream",
     "text": [
      "100%|██████████| 10/10 [00:02<00:00,  4.48it/s]"
     ]
    },
    {
     "name": "stdout",
     "output_type": "stream",
     "text": [
      "adv_loss=tensor(46.6834), shadow_polygon=tensor([ 63.6966,  32.3633,   0.0000, 241.8745, 135.9581, 291.8469])\n"
     ]
    },
    {
     "name": "stderr",
     "output_type": "stream",
     "text": [
      "\n"
     ]
    },
    {
     "data": {
      "image/png": "[encoded data removed]",
      "text/plain": [
       "<Figure size 640x480 with 1 Axes>"
      ]
     },
     "metadata": {},
     "output_type": "display_data"
    },
    {
     "data": {
      "image/png": "[encoded data removed]",
      "text/plain": [
       "<Figure size 900x300 with 3 Axes>"
      ]
     },
     "metadata": {},
     "output_type": "display_data"
    }
   ],
   "source": [
    "class DummyModel(nn.Module):\n",
    "    def __init__(self):\n",
    "        super().__init__()\n",
    "\n",
    "    def forward(self, X):\n",
    "        # X of shape (batch_size, seq_length, 3, H, W)\n",
    "        # Return the first channel of the first image from the sequence.\n",
    "        return X[:, 0, 0]\n",
    "\n",
    "\n",
    "model = DummyModel()\n",
    "X = torch.ones((3, 3, 200, 300), dtype=float) * 255  # seq_length = 3\n",
    "attacker = ShadowAttack(model=model)\n",
    "attacker.PSO_params[\"num_iters\"] = 10\n",
    "attacker.PSO_params[\"n_particles\"] = 20\n",
    "attacker.PSO_params[\"c2\"] = 3.0\n",
    "adv_loss, Xp = attacker.generate_attack(X)\n",
    "visualize_perturbed_inputs(Xp)"
   ]
  },
  {
   "cell_type": "code",
   "execution_count": null,
   "metadata": {},
   "outputs": [],
   "source": []
  }
 ],
 "metadata": {
  "kernelspec": {
   "display_name": "wayfaster",
   "language": "python",
   "name": "python3"
  },
  "language_info": {
   "codemirror_mode": {
    "name": "ipython",
    "version": 3
   },
   "file_extension": ".py",
   "mimetype": "text/x-python",
   "name": "python",
   "nbconvert_exporter": "python",
   "pygments_lexer": "ipython3",
   "version": "3.12.5"
  }
 },
 "nbformat": 4,
 "nbformat_minor": 2
}
